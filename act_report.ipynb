{
 "cells": [
  {
   "cell_type": "markdown",
   "metadata": {},
   "source": [
    "# Data Insights "
   ]
  },
  {
   "cell_type": "markdown",
   "metadata": {},
   "source": [
    "### Table of Content\n",
    "\n",
    "+ Introdcution\n",
    "+ Questions We Looked Into\n",
    "+ Conclusion"
   ]
  },
  {
   "cell_type": "markdown",
   "metadata": {},
   "source": [
    "### Introduction\n",
    "\n",
    "+ This report contains data visualizations and insight from `Data Wrangling Project`. In main project we gathered,assessed and cleaned data. Then we gained some insights and created some visualizations.\n",
    "\n",
    "+ I'll use visualizations generated in main project to share my insights.\n",
    "\n",
    "But first let's look on some of the questions that we looked into."
   ]
  },
  {
   "cell_type": "markdown",
   "metadata": {},
   "source": [
    "### Questions"
   ]
  },
  {
   "cell_type": "markdown",
   "metadata": {},
   "source": [
    "1. Which breed is likely get more ratings compared to other ?\n",
    "2. Is there any relation between rating and retweet count or favorite count ?\n",
    "3. Is breed and retweet count/favorite count somehow related ?\n",
    "4. Platform with most tweets came from?"
   ]
  },
  {
   "cell_type": "markdown",
   "metadata": {},
   "source": [
    "These are main questions , but we also some extra visualizations that we'll se first."
   ]
  },
  {
   "cell_type": "markdown",
   "metadata": {},
   "source": [
    "#### First let's look into categories of Dogs.\n",
    "\n",
    "![Dogos](./visualizations/category_bar.png)"
   ]
  },
  {
   "cell_type": "markdown",
   "metadata": {},
   "source": [
    "This chart shows number of occurences for every category in our archive. And yeah Puppers rule..., sort of !\n",
    "\n",
    "<img src=\"https://d310a9hpolx59w.cloudfront.net/product_photos/61988865/file_0a74fd4912_original.jpg\" style=\"height:400px\" />"
   ]
  },
  {
   "cell_type": "markdown",
   "metadata": {},
   "source": [
    "#### Which breed has most number of occurences in archive ?\n",
    "\n",
    "![](./visualizations/breed_bar.png)"
   ]
  },
  {
   "cell_type": "markdown",
   "metadata": {},
   "source": [
    "Now we know that Golden retriever has the highest ocuurences in WeRateDogs. But there are a lot of Unknown categories so we can not be sure for this one."
   ]
  },
  {
   "cell_type": "markdown",
   "metadata": {},
   "source": [
    "Now lets get to our main questions."
   ]
  },
  {
   "cell_type": "markdown",
   "metadata": {},
   "source": [
    "#### Which breed is likely get more ratings compared to other ?\n",
    "+ We know that Golden retriever is th most tweetes dog breed on WeRateDogs, So we'll use average of the tweets to find out which breed gets more rating compared to other."
   ]
  },
  {
   "cell_type": "markdown",
   "metadata": {},
   "source": [
    "![hello](./visualizations/breed_rating.png)"
   ]
  },
  {
   "cell_type": "markdown",
   "metadata": {},
   "source": [
    "Looks Like every dog has almost same average ratings, After all they're good dogs 😉."
   ]
  },
  {
   "cell_type": "markdown",
   "metadata": {},
   "source": [
    "### Is there any relation between rating and retweet count or favorite count ?"
   ]
  },
  {
   "cell_type": "markdown",
   "metadata": {},
   "source": [
    "![dogo](./visualizations/count_scatter.png)"
   ]
  },
  {
   "cell_type": "markdown",
   "metadata": {},
   "source": [
    "Yeah it seems Retweet and Favourite count are in a linear relationship but with a hell lot of outliers. Some tweets have a very high count of Favourite but they seem to have a very low Retweet count. It may be because of data gathering process or some sort of API related error."
   ]
  },
  {
   "cell_type": "markdown",
   "metadata": {},
   "source": [
    "### Is breed and retweet count/favorite count somehow related ?"
   ]
  },
  {
   "cell_type": "markdown",
   "metadata": {},
   "source": [
    "To find this out we'll use mean of both counts.\n",
    "\n",
    "![hello](./visualizations/fav_breed.png)"
   ]
  },
  {
   "cell_type": "markdown",
   "metadata": {},
   "source": [
    "So `Saluki` came on top in average Favourite Count. It looks like people really like Saluki. How can you not like salukis, Look at this majestic boii\n",
    "\n",
    "<br>\n",
    "\n",
    "![saluki](./visualizations/saluki.jpg)"
   ]
  },
  {
   "cell_type": "markdown",
   "metadata": {},
   "source": [
    "Other breeds have almost same average for Favourite count. So does this mean salukis also have highest average for retweet count ? "
   ]
  },
  {
   "cell_type": "markdown",
   "metadata": {},
   "source": [
    "![ret](./visualizations/ret_breed.png)"
   ]
  },
  {
   "cell_type": "markdown",
   "metadata": {},
   "source": [
    "So answer is no, Standard poodles have highest average of retweet count. And other breeds have almost same average of retweets. This shows effect of the outliers we found in scatter plot between favourite and retweet count. "
   ]
  },
  {
   "cell_type": "markdown",
   "metadata": {},
   "source": [
    "And yes, always remember \n",
    "\n",
    "![brandt](./visualizations/good.jpg)"
   ]
  }
 ],
 "metadata": {
  "kernelspec": {
   "display_name": "Python 3",
   "language": "python",
   "name": "python3"
  },
  "language_info": {
   "codemirror_mode": {
    "name": "ipython",
    "version": 3
   },
   "file_extension": ".py",
   "mimetype": "text/x-python",
   "name": "python",
   "nbconvert_exporter": "python",
   "pygments_lexer": "ipython3",
   "version": "3.7.3"
  }
 },
 "nbformat": 4,
 "nbformat_minor": 2
}
